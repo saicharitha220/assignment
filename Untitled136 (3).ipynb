{
 "cells": [
  {
   "cell_type": "code",
   "execution_count": 1,
   "id": "4c1ab84a-0d7a-4a16-9fd9-1631495009ac",
   "metadata": {},
   "outputs": [
    {
     "name": "stdout",
     "output_type": "stream",
     "text": [
      "1200.0\n"
     ]
    }
   ],
   "source": [
    "import pandas as pd\n",
    "\n",
    "# Sample dataset\n",
    "data = {\n",
    "    'Transaction_ID': [1, 2, 3, 4, 5],\n",
    "    'Product': ['A', 'B', 'A', 'C', 'B'],\n",
    "    'Quantity': [10, 5, 2, 8, 7],\n",
    "    'Price_per_Unit': [100, 200, 100, 300, 200]\n",
    "}\n",
    "\n",
    "# Create a pandas DataFrame\n",
    "df = pd.DataFrame(data)\n",
    "\n",
    "# Function to calculate the average revenue per transaction\n",
    "def calculate_average_revenue(df):\n",
    "    df['Revenue'] = df['Quantity'] * df['Price_per_Unit']\n",
    "    average_revenue = df['Revenue'].mean()\n",
    "    return average_revenue\n",
    "\n",
    "# Calculate and print average revenue per transaction\n",
    "average_revenue = calculate_average_revenue(df)\n",
    "print(average_revenue)\n"
   ]
  },
  {
   "cell_type": "code",
   "execution_count": 2,
   "id": "68dec9f3-6cc9-463f-97fb-437812265c17",
   "metadata": {},
   "outputs": [
    {
     "name": "stdout",
     "output_type": "stream",
     "text": [
      "The total revenue is: 1400\n"
     ]
    }
   ],
   "source": [
    "import pandas as pd\n",
    "\n",
    "# Sample dataset\n",
    "data = {\n",
    "    'Transaction_ID': [1, 2, 3],\n",
    "    'Date': ['2023-08-01', '2023-08-02', '2023-08-03'],\n",
    "    'Product': ['Product A', 'Product B', 'Product C'],\n",
    "    'Quantity': [5, 10, 2],\n",
    "    'Price_per_Unit': [100, 50, 200]\n",
    "}\n",
    "\n",
    "# Create a pandas DataFrame\n",
    "df = pd.DataFrame(data)\n",
    "\n",
    "# Define the function to calculate total revenue\n",
    "def calculate_total_revenue(df):\n",
    "    df['Total_Price'] = df['Quantity'] * df['Price_per_Unit']\n",
    "    total_revenue = df['Total_Price'].sum()\n",
    "    return total_revenue\n",
    "\n",
    "# Calculate the total revenue\n",
    "total_revenue = calculate_total_revenue(df)\n",
    "print(f\"The total revenue is: {total_revenue}\")\n"
   ]
  },
  {
   "cell_type": "code",
   "execution_count": null,
   "id": "3de2f67e-a0ba-4c49-a331-2edfeafcf2a7",
   "metadata": {},
   "outputs": [],
   "source": []
  }
 ],
 "metadata": {
  "kernelspec": {
   "display_name": "Python 3 (ipykernel)",
   "language": "python",
   "name": "python3"
  },
  "language_info": {
   "codemirror_mode": {
    "name": "ipython",
    "version": 3
   },
   "file_extension": ".py",
   "mimetype": "text/x-python",
   "name": "python",
   "nbconvert_exporter": "python",
   "pygments_lexer": "ipython3",
   "version": "3.11.7"
  }
 },
 "nbformat": 4,
 "nbformat_minor": 5
}
